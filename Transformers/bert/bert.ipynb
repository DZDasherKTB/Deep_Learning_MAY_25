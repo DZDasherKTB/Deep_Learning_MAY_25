{
 "cells": [
  {
   "cell_type": "code",
   "execution_count": 3,
   "id": "dc5f0420",
   "metadata": {},
   "outputs": [],
   "source": [
    "import re\n",
    "text = (\n",
    "       'Hello, how are you? I am Romeo.n'\n",
    "       'Hello, Romeo My name is Juliet. Nice to meet you.n'\n",
    "       'Nice meet you too. How are you today?n'\n",
    "       'Great. My baseball team won the competition.n'\n",
    "       'Oh Congratulations, Julietn'\n",
    "       'Thanks you Romeo'\n",
    "   )"
   ]
  },
  {
   "cell_type": "code",
   "execution_count": 12,
   "id": "2f9e66f6",
   "metadata": {},
   "outputs": [
    {
     "name": "stdout",
     "output_type": "stream",
     "text": [
      "['hello how are you i am romeo', 'hello romeo my ', 'ame is juliet ', 'ice to meet you', '', 'ice meet you too how are you today', 'great my baseball team wo', ' the competitio', '', 'oh co', 'gratulatio', 's juliet', 'tha', 'ks you romeo']\n"
     ]
    }
   ],
   "source": [
    "sentences = re.sub(\"[.,!?-]\", '', text.lower()).split('n')  # filter '.', ',', '?', '!'\n",
    "word_list = list(set(\" \".join(sentences).split()))\n",
    "print(sentences)"
   ]
  }
 ],
 "metadata": {
  "kernelspec": {
   "display_name": "Python 3",
   "language": "python",
   "name": "python3"
  },
  "language_info": {
   "codemirror_mode": {
    "name": "ipython",
    "version": 3
   },
   "file_extension": ".py",
   "mimetype": "text/x-python",
   "name": "python",
   "nbconvert_exporter": "python",
   "pygments_lexer": "ipython3",
   "version": "3.11.9"
  }
 },
 "nbformat": 4,
 "nbformat_minor": 5
}
