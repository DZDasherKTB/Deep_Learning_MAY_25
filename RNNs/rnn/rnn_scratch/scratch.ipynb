{
 "cells": [
  {
   "cell_type": "code",
   "execution_count": 15,
   "id": "6d846d38",
   "metadata": {},
   "outputs": [],
   "source": [
    "import numpy as np\n",
    "\n",
    "# Hyperparameters\n",
    "hidden_size = 100\n",
    "seq_length = 5\n",
    "learning_rate = 1e-1\n",
    "\n",
    "# Data\n",
    "data = \"simargill\"\n",
    "chars = list(set(data))\n",
    "data_size, vocab_size = len(data), len(chars)\n",
    "\n",
    "char_to_ix = {ch:i for i,ch in enumerate(chars)}\n",
    "ix_to_char = {i:ch for i,ch in enumerate(chars)}\n",
    "\n",
    "# Model parameters\n",
    "Wxh = np.random.randn(hidden_size, vocab_size) * 0.01  # input to hidden\n",
    "Whh = np.random.randn(hidden_size, hidden_size) * 0.01 # hidden to hidden\n",
    "Why = np.random.randn(vocab_size, hidden_size) * 0.01  # hidden to output\n",
    "bh = np.zeros((hidden_size, 1))                        # hidden bias\n",
    "by = np.zeros((vocab_size, 1))                         # output bias\n"
   ]
  },
  {
   "cell_type": "code",
   "execution_count": 16,
   "id": "2e12b2cd",
   "metadata": {},
   "outputs": [],
   "source": [
    "def lossFun(inputs, targets, hprev):\n",
    "    xs, hs, ys, ps = {}, {}, {}, {}\n",
    "    hs[-1] = np.copy(hprev)\n",
    "    loss = 0\n",
    "\n",
    "    # Forward pass\n",
    "    for t in range(len(inputs)):\n",
    "        xs[t] = np.zeros((vocab_size,1))   # one-hot\n",
    "        xs[t][inputs[t]] = 1\n",
    "        hs[t] = np.tanh(np.dot(Wxh, xs[t]) + np.dot(Whh, hs[t-1]) + bh)\n",
    "        ys[t] = np.dot(Why, hs[t]) + by\n",
    "        ps[t] = np.exp(ys[t]) / np.sum(np.exp(ys[t])) # softmax\n",
    "        loss += -np.log(ps[t][targets[t], 0])         # cross-entropy loss\n",
    "\n",
    "    # Backward pass\n",
    "    dWxh, dWhh, dWhy = np.zeros_like(Wxh), np.zeros_like(Whh), np.zeros_like(Why)\n",
    "    dbh, dby = np.zeros_like(bh), np.zeros_like(by)\n",
    "    dhnext = np.zeros_like(hs[0])\n",
    "\n",
    "    for t in reversed(range(len(inputs))):\n",
    "        dy = np.copy(ps[t])\n",
    "        dy[targets[t]] -= 1 # backprop into y\n",
    "        dWhy += np.dot(dy, hs[t].T)\n",
    "        dby += dy\n",
    "        dh = np.dot(Why.T, dy) + dhnext # backprop into h\n",
    "        dhraw = (1 - hs[t] * hs[t]) * dh # tanh'\n",
    "        dbh += dhraw\n",
    "        dWxh += np.dot(dhraw, xs[t].T)\n",
    "        dWhh += np.dot(dhraw, hs[t-1].T)\n",
    "        dhnext = np.dot(Whh.T, dhraw)\n",
    "\n",
    "    for dparam in [dWxh, dWhh, dWhy, dbh, dby]:\n",
    "        np.clip(dparam, -5, 5, out=dparam) # clip to mitigate exploding gradients\n",
    "\n",
    "    return loss, dWxh, dWhh, dWhy, dbh, dby, hs[len(inputs)-1]\n"
   ]
  },
  {
   "cell_type": "code",
   "execution_count": 17,
   "id": "2931e13e",
   "metadata": {},
   "outputs": [
    {
     "name": "stdout",
     "output_type": "stream",
     "text": [
      "Iter 0, Loss: 9.7284\n",
      "Iter 100, Loss: 0.0188\n",
      "Iter 200, Loss: 0.0068\n",
      "Iter 300, Loss: 0.0040\n",
      "Iter 400, Loss: 0.0028\n",
      "Iter 500, Loss: 0.0022\n",
      "Iter 600, Loss: 0.0018\n",
      "Iter 700, Loss: 0.0015\n",
      "Iter 800, Loss: 0.0013\n",
      "Iter 900, Loss: 0.0011\n",
      "Iter 1000, Loss: 0.0010\n"
     ]
    }
   ],
   "source": [
    "n, p = 0, 0\n",
    "hprev = np.zeros((hidden_size,1))\n",
    "\n",
    "while n <= 1000:\n",
    "    if p + seq_length + 1 >= len(data) or n == 0:\n",
    "        hprev = np.zeros((hidden_size,1)) # reset RNN\n",
    "        p = 0\n",
    "\n",
    "    inputs = [char_to_ix[ch] for ch in data[p:p+seq_length]]\n",
    "    targets = [char_to_ix[ch] for ch in data[p+1:p+seq_length+1]]\n",
    "\n",
    "    loss, dWxh, dWhh, dWhy, dbh, dby, hprev = lossFun(inputs, targets, hprev)\n",
    "\n",
    "    # Update weights with Adagrad\n",
    "    for param, dparam in zip([Wxh, Whh, Why, bh, by], \n",
    "                             [dWxh, dWhh, dWhy, dbh, dby]):\n",
    "        param -= learning_rate * dparam\n",
    "\n",
    "    if n % 100 == 0:\n",
    "        print(f\"Iter {n}, Loss: {loss:.4f}\")\n",
    "    \n",
    "    p += seq_length\n",
    "    n += 1\n"
   ]
  },
  {
   "cell_type": "code",
   "execution_count": 18,
   "id": "4163405a",
   "metadata": {},
   "outputs": [],
   "source": [
    "def sample(h, seed_ix, n):\n",
    "    x = np.zeros((vocab_size, 1))\n",
    "    x[seed_ix] = 1\n",
    "    ixes = []\n",
    "    for t in range(n):\n",
    "        h = np.tanh(np.dot(Wxh, x) + np.dot(Whh, h) + bh)\n",
    "        y = np.dot(Why, h) + by\n",
    "        p = np.exp(y) / np.sum(np.exp(y))\n",
    "        ix = np.random.choice(range(vocab_size), p=p.ravel())\n",
    "        x = np.zeros((vocab_size, 1))\n",
    "        x[ix] = 1\n",
    "        ixes.append(ix)\n",
    "    return ''.join(ix_to_char[ix] for ix in ixes)\n"
   ]
  },
  {
   "cell_type": "code",
   "execution_count": 20,
   "id": "c567a5fa",
   "metadata": {},
   "outputs": [
    {
     "name": "stdout",
     "output_type": "stream",
     "text": [
      "\n",
      "Sample generated text:\n",
      "imargimargimargimargimargimargimargimargimargimargimargimargimargimargimargimargimargimargimargimarg\n"
     ]
    }
   ],
   "source": [
    "# After training loop\n",
    "print(\"\\nSample generated text:\")\n",
    "sampled_text = sample(hprev, seed_ix=char_to_ix['i'], n=100)\n",
    "print(sampled_text)\n"
   ]
  },
  {
   "cell_type": "code",
   "execution_count": null,
   "id": "f05c269d",
   "metadata": {},
   "outputs": [],
   "source": []
  }
 ],
 "metadata": {
  "kernelspec": {
   "display_name": "Python 3",
   "language": "python",
   "name": "python3"
  },
  "language_info": {
   "codemirror_mode": {
    "name": "ipython",
    "version": 3
   },
   "file_extension": ".py",
   "mimetype": "text/x-python",
   "name": "python",
   "nbconvert_exporter": "python",
   "pygments_lexer": "ipython3",
   "version": "3.11.9"
  }
 },
 "nbformat": 4,
 "nbformat_minor": 5
}
